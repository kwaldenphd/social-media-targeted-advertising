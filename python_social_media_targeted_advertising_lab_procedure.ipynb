{
  "nbformat": 4,
  "nbformat_minor": 0,
  "metadata": {
    "colab": {
      "name": "python-social-media-targeted-advertising-lab-procedure.ipynb",
      "provenance": [],
      "authorship_tag": "ABX9TyOBc6tB7ppQN7zg1JyuxPIr",
      "include_colab_link": true
    },
    "kernelspec": {
      "name": "python3",
      "display_name": "Python 3"
    },
    "language_info": {
      "name": "python"
    }
  },
  "cells": [
    {
      "cell_type": "markdown",
      "metadata": {
        "id": "view-in-github",
        "colab_type": "text"
      },
      "source": [
        "<a href=\"https://colab.research.google.com/github/kwaldenphd/social-media-targeted-advertising/blob/main/python_social_media_targeted_advertising_lab_procedure.ipynb\" target=\"_parent\"><img src=\"https://colab.research.google.com/assets/colab-badge.svg\" alt=\"Open In Colab\"/></a>"
      ]
    },
    {
      "cell_type": "markdown",
      "source": [
        "# Social Media, Feed Curation, and Targeted Advertising\n",
        "\n",
        "<a href=\"http://creativecommons.org/licenses/by-nc/4.0/\" rel=\"license\"><img style=\"border-width: 0;\" src=\"https://i.creativecommons.org/l/by-nc/4.0/88x31.png\" alt=\"Creative Commons License\" /></a>\n",
        "This tutorial is licensed under a <a href=\"http://creativecommons.org/licenses/by-nc/4.0/\" rel=\"license\">Creative Commons Attribution-NonCommercial 4.0 International License</a>."
      ],
      "metadata": {
        "id": "8Fxzy0-1whr_"
      }
    },
    {
      "cell_type": "markdown",
      "source": [
        "# Lab Materials\n",
        "\n",
        "**Lab notebook template:**\n",
        "- [Jupyter Notebook](https://colab.research.google.com/drive/1_d3Cw9IAP78QioYy9FBI_bCxsm4xRu04?usp=sharing)\n",
        "- [Google Doc](https://docs.google.com/document/d/1qrlWzJ8s-k0Ac73tv7rIMFY-cRolN5dYfa4_9wz6OBQ/copy)\n",
        "\n",
        "**Files**\n",
        "\n",
        "We'll be using two primary data files for this lab- structured data (`.csv` or `.json` options) and unstructured text (`.txt`)\n",
        "\n",
        "- `index_irads.csv`\n",
        "  * [Google Drive](https://drive.google.com/file/d/1unyN0-U378rtcq-px37k7xjWmOf9rYsD/view?usp=sharing)\n",
        "  * GitHub: https://raw.githubusercontent.com/kwaldenphd/social-media-targeted-advertising/main/data/index_irads.csv\n",
        "\n",
        "- `index_irads.json`\n",
        "  * [Google Drive](https://drive.google.com/file/d/19vi92QXEuwNlC7nvF0K617QRU9xnafKB/view?usp=sharing)\n",
        "  * GitHub: https://raw.githubusercontent.com/kwaldenphd/social-media-targeted-advertising/main/data/index_irads.json\n",
        "  \n",
        "- `interests.csv`\n",
        "  * [Google Drive](https://drive.google.com/file/d/148ObLGnNrMvq5k9CzcW2TgmrqjqKzn1h/view?usp=sharing)\n",
        "  * GitHub: https://raw.githubusercontent.com/kwaldenphd/social-media-targeted-advertising/main/data/interests.csv\n",
        "\n",
        "- `irads_text.txt`\n",
        "  * [Google Drive](https://drive.google.com/file/d/1PkJRWbdI0grb3bZROFlyJ7g9Ys7wCBf4/view?usp=sharing)\n",
        "  * GitHub: https://raw.githubusercontent.com/kwaldenphd/social-media-targeted-advertising/main/data/irads_text.txt\n"
      ],
      "metadata": {
        "id": "PP16KeqAwjlU"
      }
    },
    {
      "cell_type": "markdown",
      "source": [
        "# Overview\n",
        "\n",
        "In her 2018 book *Algorithms of Oppression*, Safiya Umoja Noble highlights the \"algorithmically driven data failures that are specific to people of color and women,\" arguing these systems \"undescore the structural ways that racism and sexism are fundamental to what I have coined *algorithmic oppression*\" (4).\n",
        "\n",
        "Noble calls for \"all the voices to come to the fore and impact public policy on the most unregulated social experiment of our times: the Internet\" (6).\n",
        "\n",
        "Thinking about the chapters we read from *Algorithms of Oppression*....\n",
        "\n",
        "**Discussion questions:**\n",
        "\n",
        "- What stood out to you from Chapter 1's opening story about the UN Women campaign?\n",
        "  * What connections can we make with the author’s broader framework of algorithmic oppression?\n",
        "\n",
        "- One of the arguments Noble makes in analyzing the UN Women campaign is how efforts to raise awareness often “reinforce the idea that it is not the search engine that is the problem but, rather, the users of search engines who are” (15). What connections can we make with conversations taking place about other social media platforms, in relation to content moderation, protected speech, etc.?\n",
        "\n",
        "- What stood out to you from Chapter 3's opening narrative about the 2015 massacre that took place at Charleston’s Mother Emanuel African Methodist Episcopal Church?\n",
        "  *  connections can we make with the author’s broader framework of algorithmic oppression?\n",
        "\n",
        "- What connections can we make with race and surveillance? Or, where do we see race and surveillance at work?\n",
        "\n",
        "- What could it look like to push back on the framing of search results as a neutral, objective representation of reality? \n",
        "\n",
        "- How do we think more critically about whose interests are prioritized and/or promoted in the digital information landscape?\n",
        "\n",
        "- Other observations, comments, or questions from these chapters.\n",
        "\n",
        "Quotes to consider from Chapter 1:\n",
        "\n",
        "- “What I find troubling is that the [UN Women] campaign also reinforces the idea that it is not the search engine that is the problem but, rather, the users of search engines who are. It suggests that what is most popular is simply what rises to the top of the pile. While serving as an important and disturbing critique of swexist attitudes, the campaign fails to implicate the algorithms or search engines that drive certain results to the top” (15-16)\n",
        "\n",
        "- “Our work...is about interrogating the many ways that data and computing have become so profoundly their own ‘truth’ that even in the face of evidence, the public still struggles to hold tech companies accountable for the products and errors of their ways. These errors increasingly lead to racial and gender profiling, misrepresentation, and even economic redlining” (27-28)\n",
        "\n",
        "- “I contend that there is work to be done to contextualize and reveal the many ways that Black women are embedded within the most popular commercial search engine--Google Search--and that this embeddedness warrants an exploration into the complexities of whether the content surfaced is a result of popularity, credibility, commerciality, or even a combination thereof” (63)\n",
        "\n",
        "Quotes to consider from Chapter 3:\n",
        "\n",
        "- “The provision of false information that purports to be credible news, and the devastating consequences that can come from this kind of algorithmically driven information, is an example of why we cannot afford to outsource and privatize uncurated information on the increasingly neoliberal, privatized web” (11)\n",
        "\n",
        "- “It is critical that we think about the implications of people who are attempting to vet information in the news media about race and race relations and who are led to fascist, conservative, anti-Black, anti-Jewish, and/or White supremacist websites. The power of search engines to lead people to a breadth and depth of information cannot be more powerfully illustrated than by looking at Dylann Roof’s own alleged words about using Google to find information about the Trayvon Martin murder, which led to his racial identity development” (115)\n",
        "\n",
        "- “What we find in search engines about people and culture is important. They oversimplify complex phenomena. They obscure any struggle over understanding, and they can mask history. Search results can reframe our thinking and deny us the ability to engage deeply with essential information and knowledge we need...Search results, in the context of commercial advertising companies, lay the groundwork...for implicit bias” (116)\n"
      ],
      "metadata": {
        "id": "NbmJ1_uHwpCL"
      }
    },
    {
      "cell_type": "markdown",
      "source": [
        "# The Investigation\n",
        "\n",
        "It doesn't take very long to find numerous examples of the racist and sexist power structures reinforced and exacerbated via internet technologies and social media platforms- *Algorithms of Oppression* presents and analyzes numerous examples of these phenomena.\n",
        "\n",
        "But we can also think about how race, surveillance, and internet technology intersect in less visible but significant ways.\n",
        "\n",
        "We'll think about those less-visible intersections through looking at a specific case study- targeted use of social media by Russian individuals and organizations, designed to influence the outcome of the 2016 U.S. presidential election.\n",
        "\n",
        "To start, read U.S. House of Representatives Permanent Select Committee on Intelligence, “[Exposing Russia’s Effort to Sow Discord Online: The Internet Research Agency and Advertisements](https://intelligence.house.gov/social-media-content/default.aspx)” *U.S. House of Representatives* (16 February 2018).\n",
        "- [Link to the full report](https://www.justice.gov/storage/report.pdf)\n",
        "\n",
        "Additional background and reporting:\n",
        "- Background\n",
        "  * Adrian Chen, \"[The Agency](https://www.nytimes.com/2015/06/07/magazine/the-agency.html?_r=0)\" *New York Times* (2 June 2015)\n",
        "  * [Internet Reserach Agency, Wikipedia](https://en.wikipedia.org/wiki/Internet_Research_Agency)\n",
        "- News coverage\n",
        "  * Alana Abramson, \"[Facebook Says Russian Accounts Bought $100,000 in Ads During the 2016 Election](https://time.com/4930532/facebook-russian-accounts-2016-election/)\" *Time* (6 September 2017)\n",
        "  * Sam Levin, \"[Did Russia fake black activism on Facebook to sow division in the US?](https://www.theguardian.com/technology/2017/sep/30/blacktivist-facebook-account-russia-us-election)\" *The Guardian* (30 September 2017)\n",
        "  * Mike Isaac and Scott Shane, \"[Facebook's Russia-Linked Ads Came in Many Disguises](https://www.nytimes.com/2017/10/02/technology/facebook-russia-ads-.html)\" *New York Times* (2 October 2017)\n",
        "  * Karen Yourish, Larry Buchanan and Derek Watkins, \"[The Plot to Subvert an Election: A Timeline Showing the Full Scale of Russia’s Unprecedented Interference in the 2016 Election, and Its Aftermath](https://www.nytimes.com/interactive/2018/09/20/us/politics/russia-trump-election-timeline.html)\" *New York Times* (20 September 2018)\n",
        "  * Nicholas Thompson, \"[How Russian Trolls Used Meme Warfare to Divide America](https://www.wired.com/story/russia-ira-propaganda-senate-report/)\" *Wired* (17 December 2018)\n",
        "  * Ryan Broderick, \"[Here's Everything The Muller Report Says About How Russian Trolls Used Social Media](https://www.buzzfeednews.com/article/ryanhatesthis/mueller-report-internet-research-agency-detailed-2016)\" *Buzzfeed* (18 April 2019)\n",
        "- Reports\n",
        "  * New Knowledge, \"[The Tactics and Tropes of the Internet Research Agency](https://assets.documentcloud.org/documents/5631777/Whitepaper-Final.pdf)\" *white paper* (2018)\n",
        "  * Special Counsel Robert S. Muller, III, \"[Report On The Investigation Into Russian Interference In The 2016 Presidential Election](https://www.justice.gov/storage/report.pdf)\" (March 2019)\n",
        "\n",
        "**Discussion questions:**\n",
        "- What happened?\n",
        "- Who was involved?\n",
        "- How did we find out?\n",
        "- What was the goal/purpose of the targeted ads?\n",
        "- What kinds of technology (or technology platforms) were targeted?\n",
        "- Other comments/questions/observations"
      ],
      "metadata": {
        "id": "zy-RbstewrMj"
      }
    },
    {
      "cell_type": "markdown",
      "source": [
        "# The Data\n",
        "\n",
        "The data collected via the Congressional investigation and Special Counsel's report was made public.\n",
        "\n",
        "To get a sense of what kinds of Facebook advertisements we're talking about here, explore U.S. House of Representatives Permanent Select Committee on Intelligence, “[Social Media Advertisements](https://intelligence.house.gov/social-media-content/social-media-advertisements.htm)” U.S. House of Representatives (2018).\n",
        "\n",
        "Thousands of PDFs are great, but not exactly a dataset that we can interact with using computational tools.\n",
        "\n",
        "Ed Summers at the University of Maryland Institute for Technology in the Humanities (MITH) developed a Python-based program that extracts text from the redacted PDFs.\n",
        "\n",
        "The extracted images and metadata are published online via the [`irads project` GitHub repository](https://github.com/umd-mith/irads).\n",
        "\n",
        "Next, let's explore [that GitHub repository](https://github.com/umd-mith/irads) to get a sense of what metadata is available for these advertisements.\n",
        "\n",
        "**Discussion questions:**\n",
        "- From available info, what steps were taken to extract data/images from the PDFs?\n",
        "- How is the data structured, or how is the data made available via this repo?\n",
        "- What data points are included? What are you seeing in this dataset?\n",
        "- What might be next, or what questions could you ask using this data?\n",
        "- Other questions/comments/observations"
      ],
      "metadata": {
        "id": "1QCjOzQMwtjc"
      }
    },
    {
      "cell_type": "markdown",
      "source": [
        "# Exploratory Data Analysis\n",
        "\n",
        "Let's look at two projects that present this data in a searcheable, exploratory interface."
      ],
      "metadata": {
        "id": "fx-Jv0-LwvCe"
      }
    },
    {
      "cell_type": "markdown",
      "source": [
        "## Example 1\n",
        "\n",
        "First, let's look at the [Internet Research Agency Ads](https://archive.mith.umd.edu/irads/about.html) digital project developed by students at the University of Maryland and the Maryland Institute for Technology in the Humanities (MITH).\n",
        "\n",
        "**Discussion Questions:**\n",
        "- How is the data presented in this project?\n",
        "- What's the distance between the original data source and this presentation interface?\n",
        "- What choices or additional interpretive decisions were made as part of that data transformation process?\n",
        "- What observations/analysis/etc. would you take away from this dataset after interacting with this project?\n",
        "- What other questions do you have about this data after exploring this project?\n",
        "- Other questions/comments/observations"
      ],
      "metadata": {
        "id": "1SPdtZImwv_a"
      }
    },
    {
      "cell_type": "markdown",
      "source": [
        "## Example 2\n",
        "\n",
        "Next, let's look at Simon Willison's \"Analyzing US Election Russian Facebook Ads\" project:\n",
        "- [Blog post](https://simonwillison.net/2018/Aug/6/russian-facebook-ads/)\n",
        "- [Searchable interface](https://russian-ira-facebook-ads.datasettes.com/)\n",
        "\n",
        "**Discussion Questions:**\n",
        "- How is the data presented in this project?\n",
        "- What's the distance between the original data source and this presentation interface?\n",
        "- What choices or additional interpretive decisions were made as part of that data transformation process?\n",
        "- What observations/analysis/etc. would you take away from this dataset after interacting with this project?\n",
        "- What other questions do you have about this data after exploring this project?\n",
        "- Other questions/comments/observations"
      ],
      "metadata": {
        "id": "K3K722OswxQt"
      }
    },
    {
      "cell_type": "markdown",
      "source": [
        "# Your Turn: Exploratory Data Analysis\n",
        "\n",
        "1. We've looked at the underlying data as well as a couple of projects that analyze this data.\n",
        "\n",
        "2. Now it's your turn to think about what types of questions or analysis you want to perform on this dataset.\n",
        "\n",
        "  * Step 1- Consider what fields are included in the underlying dataset.\n",
        "\n",
        "  * Step 2- Think about what questions you might want to ask of this data.\n",
        "\n",
        "  * Step 3- Load the data as a `pandas` data frame.\n",
        "\n",
        "  * Step 4- Explore the data and start to tackle your research questions in a programming environment"
      ],
      "metadata": {
        "id": "XhGr5N3nwzF4"
      }
    },
    {
      "cell_type": "markdown",
      "source": [
        "## Load Data As Pandas DataFrame"
      ],
      "metadata": {
        "id": "ueNJl_MTw05m"
      }
    },
    {
      "cell_type": "code",
      "source": [
        "# import pandas\n",
        "import pandas as pd\n",
        "\n",
        "# load data as pandas dataframe from file\n",
        "irads = pd.read_csv(\"index_irads.csv\")\n",
        "\n",
        "# show data\n",
        "irads"
      ],
      "metadata": {
        "id": "-sZY0EjOw1xf"
      },
      "execution_count": null,
      "outputs": []
    },
    {
      "cell_type": "code",
      "source": [
        "# import pandas\n",
        "import pandas as pd\n",
        "\n",
        "# load data as pandas dataframe from URL\n",
        "irads = pd.read_csv(\"https://raw.githubusercontent.com/kwaldenphd/social-media-targeted-advertising/main/data/index_irads.csv\")\n",
        "\n",
        "# show data\n",
        "irads"
      ],
      "metadata": {
        "id": "GBSVdiWtw2u1"
      },
      "execution_count": null,
      "outputs": []
    },
    {
      "cell_type": "markdown",
      "source": [
        "## Exploratory Data Analysis in Pandas\n"
      ],
      "metadata": {
        "id": "Ffpon-uFw3fq"
      }
    },
    {
      "cell_type": "code",
      "source": [
        "# show data types\n",
        "irads.dtypes\n",
        "\n",
        "# show dataframe info\n",
        "irads.info()\n",
        "\n",
        "# show summary statistics\n",
        "irads.describe()"
      ],
      "metadata": {
        "id": "-4EJN4P3w4Oc"
      },
      "execution_count": null,
      "outputs": []
    },
    {
      "cell_type": "code",
      "source": [
        "# sort ad vaues by cost (descending sort)\n",
        "irads.sort_values(by=[\"cost\"], ascending=False).head()\n",
        "```\n",
        "\n",
        "```Python\n",
        "# sort by number of impressions, descending\n",
        "irads.sort_values(by=\"impressions\", ascending=False).head()"
      ],
      "metadata": {
        "id": "qM5cJu6tw5M9"
      },
      "execution_count": null,
      "outputs": []
    },
    {
      "cell_type": "code",
      "source": [
        "# sort by number of clicks, descending\n",
        "irads.sort_values(by=\"clicks\", ascending=False).head()"
      ],
      "metadata": {
        "id": "cIPHZdNnw6Nz"
      },
      "execution_count": null,
      "outputs": []
    },
    {
      "cell_type": "code",
      "source": [
        "# sort by number of impressions and cost (descending)\n",
        "irads.sort_values(by=['clicks', 'cost'], ascending=False).head()"
      ],
      "metadata": {
        "id": "oKRa0mb3w7Tg"
      },
      "execution_count": null,
      "outputs": []
    },
    {
      "cell_type": "code",
      "source": [
        "# group titles based on exclusion category \n",
        "irads[['title', 'exclude']].groupby('exclude').head()"
      ],
      "metadata": {
        "id": "EQn1kFkKw8Nu"
      },
      "execution_count": null,
      "outputs": []
    },
    {
      "cell_type": "code",
      "source": [
        "# number of ads by exclusion category\n",
        "irads['exclude'].value_counts()"
      ],
      "metadata": {
        "id": "WjoTDklvw891"
      },
      "execution_count": null,
      "outputs": []
    },
    {
      "cell_type": "code",
      "source": [
        "# number of ads by age range\n",
        "irads['age'].value_counts()"
      ],
      "metadata": {
        "id": "iskxx-PBw9_g"
      },
      "execution_count": null,
      "outputs": []
    },
    {
      "cell_type": "markdown",
      "source": [
        "3. For more detail on how you can interact with data in a `DataFrame`: https://github.com/kwaldenphd/pandas-machine-learning-intro#interacting-with-a-dataframe\n",
        "\n",
        "4. Other datasets you could explore:\n",
        "- [`interests.csv`](https://raw.githubusercontent.com/umd-mith/irads/master/analysis/interests.csv) (money, clicks, impressions, number of ads, interest)\n",
        "- [`people_who_match.csv`](https://raw.githubusercontent.com/umd-mith/irads/master/analysis/people_who_match.csv) (money, clicks, impressions, number of ads, people type who match)\n",
        "\n",
        "# Vizualization in Pandas\n",
        "\n",
        "5. Let's explore some preliminary visualizations using one of those other datasets (`interests.csv`).\n"
      ],
      "metadata": {
        "id": "ofAs4hclw_Sn"
      }
    },
    {
      "cell_type": "code",
      "source": [
        "# import pandas\n",
        "import pandas as pd\n",
        "\n",
        "# load interests data from file\n",
        "interests = pd.read_csv(\"interests.csv\")\n",
        "\n",
        "# show data\n",
        "interests"
      ],
      "metadata": {
        "id": "SSh4pMu9xIeY"
      },
      "execution_count": null,
      "outputs": []
    },
    {
      "cell_type": "code",
      "source": [
        "# import pandas\n",
        "import pandas as pd\n",
        "\n",
        "# load interests data from url\n",
        "interests = pd.read_csv(\"https://raw.githubusercontent.com/kwaldenphd/social-media-targeted-advertising/main/data/interests.csv\")\n",
        "\n",
        "# show data\n",
        "interests"
      ],
      "metadata": {
        "id": "C8l4kDYhxOXc"
      },
      "execution_count": null,
      "outputs": []
    },
    {
      "cell_type": "code",
      "source": [
        "# quick visual check of the data using pandas built-in plotting function\n",
        "\n",
        "# import matplotlib\n",
        "import matplotlib.pyplot as plt\n",
        "\n",
        "# generate plot\n",
        "interests.plot()\n",
        "\n",
        "# show plot\n",
        "plt.show()"
      ],
      "metadata": {
        "id": "nBUB9Hh1xPw6"
      },
      "execution_count": null,
      "outputs": []
    },
    {
      "cell_type": "code",
      "source": [
        "# customize plot showing number of ads by cost\n",
        "interests.plot.scatter(x='money (RUB)', y='ads', alpha=0.5)"
      ],
      "metadata": {
        "id": "sObmEEUjxQpy"
      },
      "execution_count": null,
      "outputs": []
    },
    {
      "cell_type": "code",
      "source": [
        "# create new data frame for ads with over 100000 clicks\n",
        "top_interests = interests.loc[interests['clicks']>100000]\n",
        "\n",
        "# show new dataframe\n",
        "top_interests"
      ],
      "metadata": {
        "id": "Zki-Y21KxRiW"
      },
      "execution_count": null,
      "outputs": []
    },
    {
      "cell_type": "code",
      "source": [
        "# plot number of impressions by interest\n",
        "top_interests.plot.barh(x='interest', y='impressions', alpha=0.5)"
      ],
      "metadata": {
        "id": "1KsKeb2MxSik"
      },
      "execution_count": null,
      "outputs": []
    },
    {
      "cell_type": "markdown",
      "source": [
        "6. For more on plotting data in a `dataframe`: https://github.com/kwaldenphd/more-with-matplotlib\n",
        "\n",
        "# From DataFrame to Text File\n",
        "\n",
        "7. We might also want to take a focused look at the text of the ads, contained in the `description` field.\n",
        "\n",
        "8. We can use Python to isolate that column/field and write it to a text (`.txt`) file."
      ],
      "metadata": {
        "id": "G1naXWe5xUj_"
      }
    },
    {
      "cell_type": "code",
      "source": [
        "# test for not null values\n",
        "irads[irads[\"title\"].notna()]"
      ],
      "metadata": {
        "id": "r0Z6oClkxT8b"
      },
      "execution_count": null,
      "outputs": []
    },
    {
      "cell_type": "code",
      "source": [
        "# create data frame from not null fields\n",
        "text = irads[irads[\"description\"].notna()]\n",
        "\n",
        "# select description field\n",
        "text = text[\"description\"]\n",
        "\n",
        "# show new dataframe\n",
        "text.head()"
      ],
      "metadata": {
        "id": "eSoApMKexWwU"
      },
      "execution_count": null,
      "outputs": []
    },
    {
      "cell_type": "code",
      "source": [
        "# write ad text column to txt file\n",
        "text.to_csv('irads_text.txt', index=False)"
      ],
      "metadata": {
        "id": "DZ55awrYxXXR"
      },
      "execution_count": null,
      "outputs": []
    },
    {
      "cell_type": "markdown",
      "source": [
        "# Text Analysis \n"
      ],
      "metadata": {
        "id": "cYW0WY_OxZr-"
      }
    },
    {
      "cell_type": "markdown",
      "source": [
        "## DataBasic WordCounter\n",
        "\n",
        "9. According to [its website,](https://databasic.io) “DataBasic is a suite of easy-to-use web tools for beginners that introduce concepts of working with data. These simple tools make it easy to work with data in fun ways, so you can learn how to find great stories to tell.” DataBasic is developed and supported by MIT’s [Center for Civic Media](https://civic.mit.edu/) and Emerson College’s [Engagement Lab.](https://elab.emerson.edu/) \n",
        "\n",
        "*Note: Images and screenshots included in this tutorial are from a sample corpus and do not reflect what you will see working with different texts*\n",
        "\n",
        "<p align=\"center\"><img class=\" size-full wp-image-53 aligncenter\" src=\"https://github.com/kwaldenphd/DataBasic-tutorial/blob/master/screenshots/Capture_1.jpg?raw=true\" alt=\"Capture\" /></p>\n",
        "\n",
        "10. Navigate to https://databasic.io/ in a web browser (preferably Chrome). \n",
        "\n",
        "<p align=\"center\"><img class=\" size-full wp-image-53 aligncenter\" src=\"https://github.com/kwaldenphd/DataBasic-tutorial/blob/master/screenshots/Capture_4.jpg?raw=true\" alt=\"Capture\" /></p>\n",
        "\n",
        "11. Click on the WordCounter icon to open the WordCounter tool. \n",
        "\n",
        "12. As described on the page, “WordCounter analyzes your text and tells you the most common words and phrases. This tool helps you count words, bigrams, and trigrams in plain text. This is often the first step in quantitative text analysis.”\n",
        "\n",
        "13. Bigrams are two-word phrases or expressions. Trigrams are three-word phrases or expressions.\n",
        "\n",
        "14. WordCounter gives you the option to use a sample text, paste in your own text, upload a file, or load text from a URL. We'll be using the text file created in the previous section of the lab (`irads_text.txt`).\n",
        "\n",
        "<p align=\"center\"><img class=\" size-full wp-image-53 aligncenter\" src=\"https://github.com/kwaldenphd/DataBasic-tutorial/blob/master/screenshots/Capture_5.jpg?raw=true\" alt=\"Capture\" /></p>\n",
        "\n",
        "<p align=\"center\"><img class=\" size-full wp-image-53 aligncenter\" src=\"https://github.com/kwaldenphd/DataBasic-tutorial/blob/master/screenshots/Capture_6.jpg?raw=true\" alt=\"Capture\" /></p>\n",
        "\n",
        "15. The default options selected in WordCounter will analyze the text without considering capitalization and stopwords.\n",
        "\n",
        "16. Stopwords are commonly used words. English-language examples include “and,” “the”, and “this.”\n",
        "\n",
        "17. Leave both options selected and click the Count icon.\n",
        "\n",
        "<p align=\"center\"><img class=\" size-full wp-image-53 aligncenter\" src=\"https://github.com/kwaldenphd/DataBasic-tutorial/blob/master/screenshots/Capture_7.jpg?raw=true\" alt=\"Capture\" /></p>\n",
        "\n",
        "18. The first visualization generated by WordCount is a word cloud of the most frequently occurring terms in the document you uploaded. Hover over specific words with your cursor to see how many times they appear in the document.\n",
        "\n",
        "<p align=\"center\"><img class=\" size-full wp-image-53 aligncenter\" src=\"https://github.com/kwaldenphd/DataBasic-tutorial/blob/master/screenshots/Capture_8.jpg?raw=true\" alt=\"Capture\" /></p>\n",
        "\n",
        "19. The tables below the word cloud on the results page include a list of words that appear most frequently in the document. WordCount has also generated a table with a list of bigrams and trigrams, as well as how many times they appear in the document.\n",
        "\n",
        "<p align=\"center\"><img class=\" size-full wp-image-53 aligncenter\" src=\"https://github.com/kwaldenphd/DataBasic-tutorial/blob/master/screenshots/Capture_8a.jpg?raw=true\" alt=\"Capture\" /></p>\n",
        "\n",
        "20. You can click on the arrow icon next to any of the table titles to download a CSV (comma-separate value) file with the data contained in that table. This file can be opened in a spreadsheet program like Microsoft Excel.\n",
        "\n",
        "<p align=\"center\"><img class=\" size-full wp-image-53 aligncenter\" src=\"https://github.com/kwaldenphd/DataBasic-tutorial/blob/master/screenshots/Capture_8c.jpg?raw=true\" alt=\"Capture\" /></p>\n",
        "\n",
        "<p align=\"center\"><img class=\" size-full wp-image-53 aligncenter\" src=\"https://github.com/kwaldenphd/DataBasic-tutorial/blob/master/screenshots/Capture_8b.jpg?raw=true\" alt=\"Capture\" /></p>\n",
        "\n",
        "21. You can also click on the arrow icon next to the page title to get a link to your WordCounter results. Your results are available via that link for 60 days."
      ],
      "metadata": {
        "id": "vy6XD15fxfNq"
      }
    },
    {
      "cell_type": "markdown",
      "source": [
        "## Voyant Tools\n",
        "\n",
        "<a href=\"http://voyant-tools.org/\">Voyant Tools</a> is an open-source web application developed by Stéfan Sinclair and Geoffrey Rockwell in 2003, with later contributions added by Andrew MacDonald, Cyril Briquet, Lisa Goddard, and Mark Turcato. While Voyant is one of the leading robust web-based textual analysis interfaces, it grew out of existing text analysis tools like HyperPo, Tapoware, and TACT. Voyant also offers <a href=\"https://github.com/sgsinclair/Voyant\">open-source code</a> that can be used to deploy the program on a server. Voyant users can upload text files from their computer, link to online text sources, or scrape the text off a webpage for analysis and visualization. Unlike more advanced, programming-oriented textual analysis programs like R and R Studio, Voyant gives users access to a range statistical analysis and visualization features without requiring significant technical knowledge.\n",
        "\n",
        "22. If needed, download the text (`.txt`) file created in the previous section of the lab.\n",
        "- [Link to access via Google Drive](https://drive.google.com/file/d/1PkJRWbdI0grb3bZROFlyJ7g9Ys7wCBf4/view?usp=sharin)\n",
        "\n",
        "23. Open a web browser (preferably Firefox or Chrome) and navigate to the <a href=\"http://voyant-tools.org/\">Voyant Tools homepage</a>.\n",
        "\n",
        "<p align=\"center\"><a href=\"https://github.com/kwaldenphd/Voyant-tutorial/blob/master/screenshots/Capture_1.PNG?raw=true\"><img class=\"aligncenter size-large wp-image-549\" src=\"https://github.com/kwaldenphd/Voyant-tutorial/blob/master/screenshots/Capture_1.PNG?raw=true\" alt=\"\" width=\"676\" height=\"523\" /></a></p>\n",
        "\n",
        "24. Upload the file and click Reveal.\n",
        "\n",
        "<p align=\"center\"><a href=\"https://github.com/kwaldenphd/Voyant-tutorial/blob/master/screenshots/Capture_2.PNG?raw=true\"><img class=\"aligncenter size-large wp-image-550\" src=\"https://github.com/kwaldenphd/Voyant-tutorial/blob/master/screenshots/Capture_2.PNG?raw=true\" alt=\"\" width=\"676\" height=\"355\" /></a></p>\n",
        "\n",
        "25. Once a text or corpus has been uploaded, Voyant moves into its ‘default skin,’ or primary editing environment.\n",
        "\n",
        "26. [Link to tutorial with more details on using Voyant](https://github.com/kwaldenphd/football-text-analysis/blob/main/voyant-tools.md)\n"
      ],
      "metadata": {
        "id": "ZtB0n8D6xhAL"
      }
    },
    {
      "cell_type": "markdown",
      "source": [
        "## Natural Language Processing Using NLTK\n",
        "\n",
        "27. \"The Natural Language Toolkit (NLTK) is a collection of reusable Python tools (also known as a Python library that help researchers apply a set of computational methods to texts. The tools range from methods of breaking up text into smaller pieces, to identifying whether a word belongs in a given language, to sample texts that researchers can use for training and development purposes (such as the complete text of Moby Dick).\" [Zoë Wilkinson Saldaña, \"Sentiment Analysis for Exploratory Data Analysis,\" *The Programming Historian 7* (2018), https://doi.org/10.46430/phen0079.]\n",
        "\n",
        "28. For more info on NLTK: https://www.nltk.org/"
      ],
      "metadata": {
        "id": "P3SipDG7xh6Q"
      }
    },
    {
      "cell_type": "markdown",
      "source": [
        "### Loading NLTK\n"
      ],
      "metadata": {
        "id": "S3a8-JOLxito"
      }
    },
    {
      "cell_type": "code",
      "source": [
        "# install nltk\n",
        "import sys \n",
        "!{sys.executable} -m pip install --user -U nltk"
      ],
      "metadata": {
        "id": "9ftDYPZ4xjzA"
      },
      "execution_count": null,
      "outputs": []
    },
    {
      "cell_type": "code",
      "source": [
        "# import statements\n",
        "import nltk\n",
        "nltk.download('punkt')\n",
        "nltk.download('wordnet')\n",
        "nltk.download('averaged_perceptron_tagger')\n",
        "\n",
        "from nltk.tag import pos_tag"
      ],
      "metadata": {
        "id": "OBrUcedIxkkq"
      },
      "execution_count": null,
      "outputs": []
    },
    {
      "cell_type": "markdown",
      "source": [
        "### Different Options for Tokenizing Using NLTK\n",
        "\n",
        "29. In Natural Language Processing (NLP), \"tokenizing\" refers to the process of breaking a large text into smaller units (words or sentences) known as tokens.\n",
        "\n",
        "30. NLTK includes a wide range of options for tokenizing text data."
      ],
      "metadata": {
        "id": "KAu9LOlnxlk2"
      }
    },
    {
      "cell_type": "code",
      "source": [
        "# convert text to string\n",
        "text_str = str(text)\n",
        "\n",
        "# show text\n",
        "text_str"
      ],
      "metadata": {
        "id": "LmUeTs_MxmdE"
      },
      "execution_count": null,
      "outputs": []
    },
    {
      "cell_type": "code",
      "source": [
        "# tokenize using word_tokenize\n",
        "\n",
        "# import statements\n",
        "from nltk.tokenize import word_tokenize\n",
        "\n",
        "# tokenize using word_tokenize\n",
        "word_tokenize(text_str)"
      ],
      "metadata": {
        "id": "ExAcj4FMxnX5"
      },
      "execution_count": null,
      "outputs": []
    },
    {
      "cell_type": "code",
      "source": [
        "# tokenize using TreebankWordTokenizer\n",
        "\n",
        "# import statements\n",
        "from nltk.tokenize import TreebankWordTokenizer\n",
        "\n",
        "# load tokenizer\n",
        "tokenizer = TreebankWordTokenizer()\n",
        "\n",
        "# tokenize using TreebankWordTokenizer\n",
        "tokenizer.tokenize(text_str)"
      ],
      "metadata": {
        "id": "WFtj-WXoxod9"
      },
      "execution_count": null,
      "outputs": []
    },
    {
      "cell_type": "code",
      "source": [
        "# tokenize using WordPunctTokenizer \n",
        "\n",
        "# import statement\n",
        "from nltk.tokenize import WordPunctTokenizer\n",
        "\n",
        "# load tokenizer    \n",
        "tokenizer = WordPunctTokenizer()\n",
        "\n",
        "# tokenize using WordPunctTokenizer\n",
        "tokenizer.tokenize(text_str)"
      ],
      "metadata": {
        "id": "IQ3NR3HpxpbO"
      },
      "execution_count": null,
      "outputs": []
    },
    {
      "cell_type": "code",
      "source": [
        "#tokenize using RegexpTokenizer\n",
        "\n",
        "# import statement\n",
        "from nltk.tokenize import RegexpTokenizer\n",
        "\n",
        "# load tokenizer\n",
        "tokenizer = RegexpTokenizer(\"[\\w']+\")\n",
        "\n",
        "# tokenize using RegexpTokenizer\n",
        "regex_words = tokenizer.tokenize(text_str)\n",
        "\n",
        "# show tokenized list\n",
        "regex_words"
      ],
      "metadata": {
        "id": "ZnkEyXu8xqmQ"
      },
      "execution_count": null,
      "outputs": []
    },
    {
      "cell_type": "markdown",
      "source": [
        "### Analyzing Term Frequency\n",
        "\n",
        "31. We can use the most effective tokenizing method for this data in combination with a few other data wrangling steps to output a unique list of words."
      ],
      "metadata": {
        "id": "-1NRJP4FxsbF"
      }
    },
    {
      "cell_type": "code",
      "source": [
        "# tokenize using word_tokenize\n",
        "from nltk.tokenize import word_tokenize\n",
        "\n",
        "# convert to string\n",
        "tokens = word_tokenize(text_str)\n",
        "\n",
        "# convert to lower case\n",
        "tokens = [w.lower() for w in tokens]\n",
        "\n",
        "# remove punctuation/special characters\n",
        "import string\n",
        "table = str.maketrans('', '', string.punctuation)\n",
        "stripped = [w.translate(table) for w in tokens]\n",
        "\n",
        "# remove non-text content\n",
        "words = [word for word in stripped if word.isalpha()]\n",
        "\n",
        "# filter out stop words\n",
        "from nltk.corpus import stopwords\n",
        "stop_words = set(stopwords.words('english'))\n",
        "words = [w for w in words if not w in stop_words]\n",
        "\n",
        "# remove words with fewer than 3 characters\n",
        "words = [word for word in words if len(word) > 3]\n",
        "\n",
        "# output cleaned list of words\n",
        "print(words)"
      ],
      "metadata": {
        "id": "e9e0gv_sxt6o"
      },
      "execution_count": null,
      "outputs": []
    },
    {
      "cell_type": "markdown",
      "source": [
        "32. We can then take that list of words and plot term frequency and distribution.\n"
      ],
      "metadata": {
        "id": "Ihyy3ystxvET"
      }
    },
    {
      "cell_type": "code",
      "source": [
        "# import nltk components\n",
        "import nltk\n",
        "from nltk.corpus import webtext\n",
        "from nltk.probability import FreqDist\n",
        "nltk.download('webtext')\n",
        "\n",
        "# analyze term frequency/distribution\n",
        "data_analysis = nltk.FreqDist(words)\n",
        "\n",
        "# show analysis\n",
        "data_analysis\n",
        "```\n",
        "\n",
        "```Python\n",
        "# plot term frequency/distribution for all terms\n",
        "data_analysis.plot()\n",
        "```\n",
        "\n",
        "```Python\n",
        "# show term frequency/distribution for top 10 terms\n",
        "for word, frequency in data_analysis.most_common(10):\n",
        "    print(u'{};{}'.format(word, frequency))"
      ],
      "metadata": {
        "id": "s2PSHNaExwP4"
      },
      "execution_count": null,
      "outputs": []
    },
    {
      "cell_type": "markdown",
      "source": [
        "# Putting It All Together\n",
        "\n",
        "**Discussion questions:**\n",
        "- What kinds of things were you interested in exploring via this dataset?\n",
        "- How did you approach those questions using computational methods?\n",
        "  * This could focus on what you did in DataBasic, Voyant, or Python (using `pandas` and/or `nltk`)\n",
        "- What kinds of insights were you able to determine?\n",
        "- How did interacting with this data using computational methods shape your understanding of the data?\n",
        "- Where would you go next?\n",
        "- How are you thinking about race and surveillance after engaging with this data?\n",
        "- Other questions/thoughts/observations\n"
      ],
      "metadata": {
        "id": "SnNg4zGIxxPU"
      }
    },
    {
      "cell_type": "markdown",
      "source": [
        "# Lab Notebook Components\n",
        "\n",
        "**Lab notebook template:**\n",
        "- [Jupyter Notebook](https://colab.research.google.com/drive/1_d3Cw9IAP78QioYy9FBI_bCxsm4xRu04?usp=sharing)\n",
        "- [Google Doc](https://docs.google.com/document/d/1qrlWzJ8s-k0Ac73tv7rIMFY-cRolN5dYfa4_9wz6OBQ/copy)\n",
        "\n",
        "The lab notebook consists of a narrative that documents and describes your experience working through this lab.\n",
        "\n",
        "You can respond to/engage with other discussion questions included in the lab procedure.\n",
        "\n",
        "But specific questions for the lab notebook (from the \"Putting It All Together\" section):\n",
        "- What kinds of things were you interested in exploring via this dataset?\n",
        "- How did you approach those questions using computational methods?\n",
        "  * This could focus on what you did in DataBasic, Voyant, or Python (using `pandas` and/or `nltk`)\n",
        "- What kinds of insights were you able to determine?\n",
        "- How did interacting with this data using computational methods shape your understanding of the data?\n",
        "- Where would you go next?\n",
        "- How are you thinking about race and surveillance after engaging with this data?\n",
        "- Other questions/thoughts/observations\n",
        "\n",
        "I encourage folks to include code + screenshots as part of that narrative."
      ],
      "metadata": {
        "id": "ENcT1pGkxyix"
      }
    }
  ]
}