{
  "nbformat": 4,
  "nbformat_minor": 0,
  "metadata": {
    "colab": {
      "name": "python-social-media-targeted-ads-lab-notebook-template.ipynb",
      "provenance": [],
      "toc_visible": true,
      "authorship_tag": "ABX9TyP3QioV9lK9K8vytfnewajc",
      "include_colab_link": true
    },
    "kernelspec": {
      "name": "python3",
      "display_name": "Python 3"
    },
    "language_info": {
      "name": "python"
    }
  },
  "cells": [
    {
      "cell_type": "markdown",
      "metadata": {
        "id": "view-in-github",
        "colab_type": "text"
      },
      "source": [
        "<a href=\"https://colab.research.google.com/github/kwaldenphd/social-media-targeted-advertising/blob/main/python_social_media_targeted_ads_lab_notebook_template.ipynb\" target=\"_parent\"><img src=\"https://colab.research.google.com/assets/colab-badge.svg\" alt=\"Open In Colab\"/></a>"
      ]
    },
    {
      "cell_type": "markdown",
      "source": [
        "# Social Media, Feed Curation, and Targeted Advertising\n",
        "\n",
        "Student name(s): **Enter your name here** (double click to edit)"
      ],
      "metadata": {
        "id": "cCPjTHZS4udx"
      }
    },
    {
      "cell_type": "markdown",
      "source": [
        "# Lab Notebook Components"
      ],
      "metadata": {
        "id": "YMLv_23-ZQ56"
      }
    },
    {
      "cell_type": "markdown",
      "source": [
        "<strong>The lab notebook consists of a narrative that documents and describes your experience working through this lab.\n",
        "\n",
        "You can respond to/engage with other discussion questions included in the lab procedure.\n",
        "\n",
        "But specific questions for the lab notebook (from the \"Putting It All Together\" section):\n",
        "- What kinds of things were you interested in exploring via this dataset?\n",
        "- How did you approach those questions using computational methods?\n",
        "  * This could focus on what you did in DataBasic, Voyant, or Python (using `pandas` and/or `nltk`)\n",
        "- What kinds of insights were you able to determine?\n",
        "- How did interacting with this data using computational methods shape your understanding of the data?\n",
        "- Where would you go next?\n",
        "- How are you thinking about race and surveillance after engaging with this data?\n",
        "- Other questions/thoughts/observations\n",
        "\n",
        "I encourage folks to include code + screenshots as part of that narrative.</strong>\n"
      ],
      "metadata": {
        "id": "TU8VdOenZTLj"
      }
    },
    {
      "cell_type": "markdown",
      "source": [
        "\n",
        "\n",
        "---\n",
        "\n"
      ],
      "metadata": {
        "id": "TCyNKh2vLCPj"
      }
    },
    {
      "cell_type": "markdown",
      "source": [
        "# Discussion Questions"
      ],
      "metadata": {
        "id": "fWQzwa62y-il"
      }
    },
    {
      "cell_type": "markdown",
      "source": [
        "## Overview\n",
        "\n",
        "In her 2018 book *Algorithms of Oppression*, Safiya Umoja Noble highlights the \"algorithmically driven data failures that are specific to people of color and women,\" arguing these systems \"undescore the structural ways that racism and sexism are fundamental to what I have coined *algorithmic oppression*\" (4).\n",
        "\n",
        "Noble calls for \"all the voices to come to the fore and impact public policy on the most unregulated social experiment of our times: the Internet\" (6).\n",
        "\n",
        "Thinking about the chapters we read from *Algorithms of Oppression*...."
      ],
      "metadata": {
        "id": "3F5CpqIey_7m"
      }
    },
    {
      "cell_type": "markdown",
      "source": [
        "**Discussion questions:**\n",
        "\n",
        "- What stood out to you from Chapter 1's opening story about the UN Women campaign?\n",
        "  * What connections can we make with the author’s broader framework of algorithmic oppression?\n",
        "\n",
        "- One of the arguments Noble makes in analyzing the UN Women campaign is how efforts to raise awareness often “reinforce the idea that it is not the search engine that is the problem but, rather, the users of search engines who are” (15). What connections can we make with conversations taking place about other social media platforms, in relation to content moderation, protected speech, etc.?\n",
        "\n",
        "- What stood out to you from Chapter 3's opening narrative about the 2015 massacre that took place at Charleston’s Mother Emanuel African Methodist Episcopal Church?\n",
        "  *  connections can we make with the author’s broader framework of algorithmic oppression?\n",
        "\n",
        "- What connections can we make with race and surveillance? Or, where do we see race and surveillance at work?\n",
        "\n",
        "- What could it look like to push back on the framing of search results as a neutral, objective representation of reality? \n",
        "\n",
        "- How do we think more critically about whose interests are prioritized and/or promoted in the digital information landscape?\n",
        "\n",
        "- Other observations, comments, or questions from these chapters."
      ],
      "metadata": {
        "id": "Kaqdsb5pzJtD"
      }
    },
    {
      "cell_type": "markdown",
      "source": [
        "Quotes to consider from Chapter 1:\n",
        "\n",
        "- “What I find troubling is that the [UN Women] campaign also reinforces the idea that it is not the search engine that is the problem but, rather, the users of search engines who are. It suggests that what is most popular is simply what rises to the top of the pile. While serving as an important and disturbing critique of swexist attitudes, the campaign fails to implicate the algorithms or search engines that drive certain results to the top” (15-16)\n",
        "\n",
        "- “Our work...is about interrogating the many ways that data and computing have become so profoundly their own ‘truth’ that even in the face of evidence, the public still struggles to hold tech companies accountable for the products and errors of their ways. These errors increasingly lead to racial and gender profiling, misrepresentation, and even economic redlining” (27-28)\n",
        "\n",
        "- “I contend that there is work to be done to contextualize and reveal the many ways that Black women are embedded within the most popular commercial search engine--Google Search--and that this embeddedness warrants an exploration into the complexities of whether the content surfaced is a result of popularity, credibility, commerciality, or even a combination thereof” (63)\n",
        "\n",
        "Quotes to consider from Chapter 3:\n",
        "\n",
        "- “The provision of false information that purports to be credible news, and the devastating consequences that can come from this kind of algorithmically driven information, is an example of why we cannot afford to outsource and privatize uncurated information on the increasingly neoliberal, privatized web” (11)\n",
        "\n",
        "- “It is critical that we think about the implications of people who are attempting to vet information in the news media about race and race relations and who are led to fascist, conservative, anti-Black, anti-Jewish, and/or White supremacist websites. The power of search engines to lead people to a breadth and depth of information cannot be more powerfully illustrated than by looking at Dylann Roof’s own alleged words about using Google to find information about the Trayvon Martin murder, which led to his racial identity development” (115)\n",
        "\n",
        "- “What we find in search engines about people and culture is important. They oversimplify complex phenomena. They obscure any struggle over understanding, and they can mask history. Search results can reframe our thinking and deny us the ability to engage deeply with essential information and knowledge we need...Search results, in the context of commercial advertising companies, lay the groundwork...for implicit bias” (116)"
      ],
      "metadata": {
        "id": "-PqAR3r_zMpL"
      }
    },
    {
      "cell_type": "markdown",
      "source": [
        "## The Investigation\n",
        "\n",
        "It doesn't take very long to find numerous examples of the racist and sexist power structures reinforced and exacerbated via internet technologies and social media platforms- *Algorithms of Oppression* presents and analyzes numerous examples of these phenomena.\n",
        "\n",
        "But we can also think about how race, surveillance, and internet technology intersect in less visible but significant ways.\n",
        "\n",
        "We'll think about those less-visible intersections through looking at a specific case study- targeted use of social media by Russian individuals and organizations, designed to influence the outcome of the 2016 U.S. presidential election.\n",
        "\n",
        "To start, read U.S. House of Representatives Permanent Select Committee on Intelligence, “[Exposing Russia’s Effort to Sow Discord Online: The Internet Research Agency and Advertisements](https://intelligence.house.gov/social-media-content/default.aspx)” *U.S. House of Representatives* (16 February 2018).\n",
        "- [Link to the full report](https://www.justice.gov/storage/report.pdf)\n",
        "\n",
        "Additional background and reporting:\n",
        "- Background\n",
        "  * Adrian Chen, \"[The Agency](https://www.nytimes.com/2015/06/07/magazine/the-agency.html?_r=0)\" *New York Times* (2 June 2015)\n",
        "  * [Internet Reserach Agency, Wikipedia](https://en.wikipedia.org/wiki/Internet_Research_Agency)\n",
        "- News coverage\n",
        "  * Alana Abramson, \"[Facebook Says Russian Accounts Bought $100,000 in Ads During the 2016 Election](https://time.com/4930532/facebook-russian-accounts-2016-election/)\" *Time* (6 September 2017)\n",
        "  * Sam Levin, \"[Did Russia fake black activism on Facebook to sow division in the US?](https://www.theguardian.com/technology/2017/sep/30/blacktivist-facebook-account-russia-us-election)\" *The Guardian* (30 September 2017)\n",
        "  * Mike Isaac and Scott Shane, \"[Facebook's Russia-Linked Ads Came in Many Disguises](https://www.nytimes.com/2017/10/02/technology/facebook-russia-ads-.html)\" *New York Times* (2 October 2017)\n",
        "  * Karen Yourish, Larry Buchanan and Derek Watkins, \"[The Plot to Subvert an Election: A Timeline Showing the Full Scale of Russia’s Unprecedented Interference in the 2016 Election, and Its Aftermath](https://www.nytimes.com/interactive/2018/09/20/us/politics/russia-trump-election-timeline.html)\" *New York Times* (20 September 2018)\n",
        "  * Nicholas Thompson, \"[How Russian Trolls Used Meme Warfare to Divide America](https://www.wired.com/story/russia-ira-propaganda-senate-report/)\" *Wired* (17 December 2018)\n",
        "  * Ryan Broderick, \"[Here's Everything The Muller Report Says About How Russian Trolls Used Social Media](https://www.buzzfeednews.com/article/ryanhatesthis/mueller-report-internet-research-agency-detailed-2016)\" *Buzzfeed* (18 April 2019)\n",
        "- Reports\n",
        "  * New Knowledge, \"[The Tactics and Tropes of the Internet Research Agency](https://assets.documentcloud.org/documents/5631777/Whitepaper-Final.pdf)\" *white paper* (2018)\n",
        "  * Special Counsel Robert S. Muller, III, \"[Report On The Investigation Into Russian Interference In The 2016 Presidential Election](https://www.justice.gov/storage/report.pdf)\" (March 2019)"
      ],
      "metadata": {
        "id": "j6j8WkYzzUe-"
      }
    },
    {
      "cell_type": "markdown",
      "source": [
        "**Discussion questions:**\n",
        "- What happened?\n",
        "- Who was involved?\n",
        "- How did we find out?\n",
        "- What was the goal/purpose of the targeted ads?\n",
        "- What kinds of technology (or technology platforms) were targeted?\n",
        "- Other comments/questions/observations"
      ],
      "metadata": {
        "id": "VOJllfm3zXNi"
      }
    },
    {
      "cell_type": "markdown",
      "source": [
        "## The Data\n",
        "\n",
        "The data collected via the Congressional investigation and Special Counsel's report was made public.\n",
        "\n",
        "To get a sense of what kinds of Facebook advertisements we're talking about here, explore U.S. House of Representatives Permanent Select Committee on Intelligence, “[Social Media Advertisements](https://intelligence.house.gov/social-media-content/social-media-advertisements.htm)” U.S. House of Representatives (2018).\n",
        "\n",
        "Thousands of PDFs are great, but not exactly a dataset that we can interact with using computational tools.\n",
        "\n",
        "Ed Summers at the University of Maryland Institute for Technology in the Humanities (MITH) developed a Python-based program that extracts text from the redacted PDFs.\n",
        "\n",
        "The extracted images and metadata are published online via the [`irads project` GitHub repository](https://github.com/umd-mith/irads).\n",
        "\n",
        "Next, let's explore [that GitHub repository](https://github.com/umd-mith/irads) to get a sense of what metadata is available for these advertisements."
      ],
      "metadata": {
        "id": "Yl5Rw0y4zYol"
      }
    },
    {
      "cell_type": "markdown",
      "source": [
        "**Discussion questions:**\n",
        "- From available info, what steps were taken to extract data/images from the PDFs?\n",
        "- How is the data structured, or how is the data made available via this repo?\n",
        "- What data points are included? What are you seeing in this dataset?\n",
        "- What might be next, or what questions could you ask using this data?\n",
        "- Other questions/comments/observations"
      ],
      "metadata": {
        "id": "i-gh5sc7zZ2L"
      }
    },
    {
      "cell_type": "markdown",
      "source": [
        "# Exploratory Data Analysis\n",
        "\n",
        "Let's look at two projects that present this data in a searcheable, exploratory interface."
      ],
      "metadata": {
        "id": "ZE3mRRsnzb8K"
      }
    },
    {
      "cell_type": "markdown",
      "source": [
        "## Example 1\n",
        "\n",
        "First, let's look at the [Internet Research Agency Ads](https://archive.mith.umd.edu/irads/about.html) digital project developed by students at the University of Maryland and the Maryland Institute for Technology in the Humanities (MITH)."
      ],
      "metadata": {
        "id": "phOogYE9zexB"
      }
    },
    {
      "cell_type": "markdown",
      "source": [
        "**Discussion Questions:**\n",
        "- How is the data presented in this project?\n",
        "- What's the distance between the original data source and this presentation interface?\n",
        "- What choices or additional interpretive decisions were made as part of that data transformation process?\n",
        "- What observations/analysis/etc. would you take away from this dataset after interacting with this project?\n",
        "- What other questions do you have about this data after exploring this project?\n",
        "- Other questions/comments/observations"
      ],
      "metadata": {
        "id": "_AEV1kyazfvw"
      }
    },
    {
      "cell_type": "markdown",
      "source": [
        "## Example 2\n",
        "\n",
        "Next, let's look at Simon Willison's \"Analyzing US Election Russian Facebook Ads\" project:\n",
        "- [Blog post](https://simonwillison.net/2018/Aug/6/russian-facebook-ads/)\n",
        "- [Searchable interface](https://russian-ira-facebook-ads.datasettes.com/)"
      ],
      "metadata": {
        "id": "o-m7eiQxzgsQ"
      }
    },
    {
      "cell_type": "markdown",
      "source": [
        "**Discussion Questions:**\n",
        "- How is the data presented in this project?\n",
        "- What's the distance between the original data source and this presentation interface?\n",
        "- What choices or additional interpretive decisions were made as part of that data transformation process?\n",
        "- What observations/analysis/etc. would you take away from this dataset after interacting with this project?\n",
        "- What other questions do you have about this data after exploring this project?\n",
        "- Other questions/comments/observations"
      ],
      "metadata": {
        "id": "C2kGMkAdzhry"
      }
    },
    {
      "cell_type": "markdown",
      "source": [
        "# Putting It All Together\n",
        "\n",
        "**Discussion questions:**\n",
        "- What kinds of things were you interested in exploring via this dataset?\n",
        "- How did you approach those questions using computational methods?\n",
        "  * This could focus on what you did in DataBasic, Voyant, or Python (using `pandas` and/or `nltk`)\n",
        "- What kinds of insights were you able to determine?\n",
        "- How did interacting with this data using computational methods shape your understanding of the data?\n",
        "- Where would you go next?\n",
        "- How are you thinking about race and surveillance after engaging with this data?\n",
        "- Other questions/thoughts/observations"
      ],
      "metadata": {
        "id": "DzAG8RE3zzcR"
      }
    },
    {
      "cell_type": "markdown",
      "source": [
        "\n",
        "\n",
        "---\n",
        "\n"
      ],
      "metadata": {
        "id": "xQiiI9_Dz00B"
      }
    },
    {
      "cell_type": "markdown",
      "source": [
        "# Narrative\n",
        "\n",
        "**Space for notes:** Your narrative here (double click to edit)\n",
        "\n"
      ],
      "metadata": {
        "id": "ZRftVHWIWMrC"
      }
    },
    {
      "cell_type": "code",
      "source": [
        "# space for code (if needed, double click to edit)"
      ],
      "metadata": {
        "id": "dVk8oZzhXy4f"
      },
      "execution_count": null,
      "outputs": []
    }
  ]
}